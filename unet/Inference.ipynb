{
 "cells": [
  {
   "cell_type": "code",
   "execution_count": 1,
   "metadata": {},
   "outputs": [],
   "source": [
    "from model import *\n",
    "from data import *\n",
    "from custom_callbacks import ValidatePredictions\n",
    "import cv2\n",
    "import random\n",
    "import matplotlib.pyplot as plt\n",
    "from tensorflow.keras.callbacks import TensorBoard\n",
    "import time\n",
    "\n",
    "import tensorflow as tf\n"
   ]
  },
  {
   "cell_type": "code",
   "execution_count": 2,
   "metadata": {},
   "outputs": [
    {
     "name": "stderr",
     "output_type": "stream",
     "text": [
      "2022-06-27 22:12:58.406854: I tensorflow/stream_executor/cuda/cuda_gpu_executor.cc:975] successful NUMA node read from SysFS had negative value (-1), but there must be at least one NUMA node, so returning NUMA node zero\n",
      "2022-06-27 22:12:58.410535: I tensorflow/stream_executor/cuda/cuda_gpu_executor.cc:975] successful NUMA node read from SysFS had negative value (-1), but there must be at least one NUMA node, so returning NUMA node zero\n",
      "2022-06-27 22:12:58.410642: I tensorflow/stream_executor/cuda/cuda_gpu_executor.cc:975] successful NUMA node read from SysFS had negative value (-1), but there must be at least one NUMA node, so returning NUMA node zero\n",
      "2022-06-27 22:12:58.411116: I tensorflow/core/platform/cpu_feature_guard.cc:193] This TensorFlow binary is optimized with oneAPI Deep Neural Network Library (oneDNN) to use the following CPU instructions in performance-critical operations:  AVX2 FMA\n",
      "To enable them in other operations, rebuild TensorFlow with the appropriate compiler flags.\n",
      "2022-06-27 22:12:58.411502: I tensorflow/stream_executor/cuda/cuda_gpu_executor.cc:975] successful NUMA node read from SysFS had negative value (-1), but there must be at least one NUMA node, so returning NUMA node zero\n",
      "2022-06-27 22:12:58.411608: I tensorflow/stream_executor/cuda/cuda_gpu_executor.cc:975] successful NUMA node read from SysFS had negative value (-1), but there must be at least one NUMA node, so returning NUMA node zero\n",
      "2022-06-27 22:12:58.411698: I tensorflow/stream_executor/cuda/cuda_gpu_executor.cc:975] successful NUMA node read from SysFS had negative value (-1), but there must be at least one NUMA node, so returning NUMA node zero\n",
      "2022-06-27 22:12:58.717739: I tensorflow/stream_executor/cuda/cuda_gpu_executor.cc:975] successful NUMA node read from SysFS had negative value (-1), but there must be at least one NUMA node, so returning NUMA node zero\n",
      "2022-06-27 22:12:58.717872: I tensorflow/stream_executor/cuda/cuda_gpu_executor.cc:975] successful NUMA node read from SysFS had negative value (-1), but there must be at least one NUMA node, so returning NUMA node zero\n",
      "2022-06-27 22:12:58.717968: I tensorflow/stream_executor/cuda/cuda_gpu_executor.cc:975] successful NUMA node read from SysFS had negative value (-1), but there must be at least one NUMA node, so returning NUMA node zero\n",
      "2022-06-27 22:12:58.718042: I tensorflow/core/common_runtime/gpu/gpu_device.cc:1532] Created device /job:localhost/replica:0/task:0/device:GPU:0 with 5958 MB memory:  -> device: 0, name: NVIDIA GeForce RTX 3070, pci bus id: 0000:01:00.0, compute capability: 8.6\n",
      "/home/sohaib/anaconda3/envs/tf2_9/lib/python3.8/site-packages/keras/optimizers/optimizer_v2/adam.py:110: UserWarning: The `lr` argument is deprecated, use `learning_rate` instead.\n",
      "  super(Adam, self).__init__(name, **kwargs)\n"
     ]
    }
   ],
   "source": [
    "model = unet(\"weights/Unet_22_0.14018212258815765_0.8598212599754333.h5\")\n"
   ]
  },
  {
   "cell_type": "code",
   "execution_count": 14,
   "metadata": {},
   "outputs": [
    {
     "name": "stdout",
     "output_type": "stream",
     "text": [
      "(3000, 3000, 3)\n",
      "(3000, 3000, 4)\n"
     ]
    }
   ],
   "source": [
    "import numpy as np\n",
    "from PIL import Image\n",
    "import math\n",
    "\n",
    "def tile_image(p_img, folder, h: int = 512, w: int = 512) -> list:\n",
    "    im = np.array(Image.open(p_img))\n",
    "    print(im.shape)\n",
    "    # https://stackoverflow.com/a/47581978/4521646\n",
    "    tiles = [im[i:(i + h), j:(j + w), ...] for i in range(0, im.shape[0], h) for j in range(0, im.shape[1], w)]\n",
    "    idxs = [(i, (i + h), j, (j + w)) for i in range(0, im.shape[0], h) for j in range(0, im.shape[1], w)]\n",
    "    name, _ = os.path.splitext(os.path.basename(p_img))\n",
    "    tile_img = []\n",
    "    for k, tile in enumerate(tiles):\n",
    "        if tile.shape[:2] != (h, w):\n",
    "            tile_ = tile\n",
    "            tile = np.zeros_like(tiles[0])\n",
    "            tile[:tile_.shape[0], :tile_.shape[1], ...] = tile_\n",
    "\n",
    "            tile_img.append(tile)\n",
    "    return tile_img, idxs\n",
    "\n",
    "tile_size = 256\n",
    "image_size = (3000, 3000)\n",
    "tiles_img, _ = tile_image(\"../hubmap-organ-segmentation/train_images/12233.tiff\", \"../hubmap-organ-segmentation/tiles/images\", h=tile_size, w=tile_size)\n",
    "tiles_seg, idxs = tile_image(\"../hubmap-organ-segmentation/train_masks/12233.tiff\", \"../hubmap-organ-segmentation/tiles/masks\", h=tile_size, w=tile_size)\n",
    "\n",
    "\n",
    "\n",
    "size = math.ceil(image_size[0]/tile_size)"
   ]
  },
  {
   "cell_type": "code",
   "execution_count": 13,
   "metadata": {},
   "outputs": [
    {
     "name": "stdout",
     "output_type": "stream",
     "text": [
      "23\n",
      "(256, 256, 3)\n",
      "(256, 256, 3)\n",
      "(256, 256, 3)\n",
      "(256, 256, 3)\n",
      "(256, 256, 3)\n",
      "(256, 256, 3)\n",
      "(256, 256, 3)\n",
      "(256, 256, 3)\n",
      "(256, 256, 3)\n",
      "(256, 256, 3)\n",
      "(256, 256, 3)\n",
      "(256, 256, 3)\n",
      "(256, 256, 3)\n",
      "(256, 256, 3)\n",
      "(256, 256, 3)\n",
      "(256, 256, 3)\n",
      "(256, 256, 3)\n",
      "(256, 256, 3)\n",
      "(256, 256, 3)\n",
      "(256, 256, 3)\n",
      "(256, 256, 3)\n",
      "(256, 256, 3)\n",
      "(256, 256, 3)\n"
     ]
    }
   ],
   "source": [
    "print(len(tiles_img))\n",
    "for i in tiles_img:\n",
    "    print(i.shape)"
   ]
  },
  {
   "cell_type": "code",
   "execution_count": 18,
   "metadata": {},
   "outputs": [
    {
     "name": "stdout",
     "output_type": "stream",
     "text": [
      "(256, 256)\n",
      "1/1 [==============================] - 0s 12ms/step\n",
      "(256, 256)\n",
      "1/1 [==============================] - 0s 12ms/step\n",
      "(256, 256)\n",
      "1/1 [==============================] - 0s 12ms/step\n",
      "(256, 256)\n",
      "1/1 [==============================] - 0s 12ms/step\n",
      "(256, 256)\n",
      "1/1 [==============================] - 0s 12ms/step\n",
      "(256, 256)\n",
      "1/1 [==============================] - 0s 12ms/step\n",
      "(256, 256)\n",
      "1/1 [==============================] - 0s 12ms/step\n",
      "(256, 256)\n",
      "1/1 [==============================] - 0s 12ms/step\n",
      "(256, 256)\n",
      "1/1 [==============================] - 0s 12ms/step\n",
      "(256, 256)\n",
      "1/1 [==============================] - 0s 12ms/step\n",
      "(256, 256)\n",
      "1/1 [==============================] - 0s 12ms/step\n",
      "(256, 256)\n",
      "1/1 [==============================] - 0s 12ms/step\n",
      "(256, 256)\n",
      "1/1 [==============================] - 0s 12ms/step\n",
      "(256, 256)\n",
      "1/1 [==============================] - 0s 12ms/step\n",
      "(256, 256)\n",
      "1/1 [==============================] - 0s 12ms/step\n",
      "(256, 256)\n",
      "1/1 [==============================] - 0s 12ms/step\n",
      "(256, 256)\n",
      "1/1 [==============================] - 0s 12ms/step\n",
      "(256, 256)\n",
      "1/1 [==============================] - 0s 12ms/step\n",
      "(256, 256)\n",
      "1/1 [==============================] - 0s 12ms/step\n",
      "(256, 256)\n",
      "1/1 [==============================] - 0s 12ms/step\n",
      "(256, 256)\n",
      "1/1 [==============================] - 0s 12ms/step\n",
      "(256, 256)\n",
      "1/1 [==============================] - 0s 12ms/step\n",
      "(256, 256)\n",
      "1/1 [==============================] - 0s 12ms/step\n"
     ]
    },
    {
     "data": {
      "image/png": "[encoded data removed]",
      "text/plain": [
       "<Figure size 648x648 with 144 Axes>"
      ]
     },
     "metadata": {
      "needs_background": "light"
     },
     "output_type": "display_data"
    }
   ],
   "source": [
    "\n",
    "\n",
    "import matplotlib.pyplot as plt\n",
    "from skimage import color\n",
    "\n",
    "fig, axes = plt.subplots(nrows=size, ncols=size, figsize=(9, 9))\n",
    "# fig2, axes2 = plt.subplots(nrows=size, ncols=size, figsize=(9, 9))\n",
    "\n",
    "for i, (p_img, p_seg) in enumerate(zip(tiles_img, tiles_seg)):\n",
    "    img = np.asarray(Image.fromarray((p_img)).convert(\"L\"))\n",
    "    mask = np.asarray(Image.fromarray((p_seg)).convert(\"L\"))\n",
    "    print(mask.shape)\n",
    "    img, ground_truth=adjustData(img,mask, False, 2)\n",
    "    pred = model.predict(np.expand_dims(img,axis=0))\n",
    "    pred = np.squeeze(pred)\n",
    "    axes[i // size, i % size].imshow(Image.blend(Image.fromarray(img).convert(\"L\"), Image.fromarray(mask).convert(\"L\"), 0.3))\n",
    "#     axes2[i // size, i % size].imshow(Image.blend(Image.fromarray(np.uint8(img * 255), 'L'), Image.fromarray(np.uint8(mask * 255), 'L'), 0.3))\n",
    "\n",
    "    axes[i // size, i % size].set_axis_off()\n",
    "#     axes2[i // size, i % size].set_axis_off()\n",
    "\n",
    "\n",
    "fig.tight_layout()\n",
    "# fig2.tight_layout()\n"
   ]
  },
  {
   "cell_type": "code",
   "execution_count": null,
   "metadata": {},
   "outputs": [],
   "source": []
  }
 ],
 "metadata": {
  "kernelspec": {
   "display_name": "tf2_9",
   "language": "python",
   "name": "tf2_9"
  },
  "language_info": {
   "codemirror_mode": {
    "name": "ipython",
    "version": 3
   },
   "file_extension": ".py",
   "mimetype": "text/x-python",
   "name": "python",
   "nbconvert_exporter": "python",
   "pygments_lexer": "ipython3",
   "version": "3.8.13"
  }
 },
 "nbformat": 4,
 "nbformat_minor": 4
}
